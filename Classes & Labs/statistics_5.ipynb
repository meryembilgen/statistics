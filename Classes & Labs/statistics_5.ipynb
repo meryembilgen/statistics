{
 "cells": [
  {
   "cell_type": "markdown",
   "id": "f028f87c",
   "metadata": {},
   "source": [
    "## <p style=\"background-color:#9d4f8c; font-family:newtimeroman; color:#FFF9ED; font-size:150%; text-align:center; border-radius:10px 10px;\">STATISTICS</p>"
   ]
  },
  {
   "cell_type": "code",
   "execution_count": 1,
   "id": "2802be3f",
   "metadata": {},
   "outputs": [],
   "source": [
    "import numpy as np\n",
    "from scipy import stats"
   ]
  },
  {
   "cell_type": "markdown",
   "id": "9348d136",
   "metadata": {},
   "source": [
    "# One Sample Z Test"
   ]
  },
  {
   "cell_type": "markdown",
   "id": "6c2cf7fb",
   "metadata": {},
   "source": [
    "Performed when the population variance or standard deviation ane known."
   ]
  },
  {
   "cell_type": "markdown",
   "id": "f50cb453",
   "metadata": {},
   "source": [
    "## Example-1\n",
    "- Suppose that a beach is safe to swim if the mean level of lead in the water is 10.0 (μ0) parts/million.\n",
    "- We assume Xi ~ N(μ, σ = 1.5)\n",
    "- Water safety is going to be determined by taking 40 water samples and using the test statistic.\n",
    "- Sample mean = 10.5\n",
    "- α = 0.05"
   ]
  },
  {
   "cell_type": "code",
   "execution_count": 2,
   "id": "c0939ac4",
   "metadata": {},
   "outputs": [],
   "source": [
    "#H0: mu = 10\n",
    "#H1: mu > 10"
   ]
  },
  {
   "cell_type": "markdown",
   "id": "9085e1c5",
   "metadata": {},
   "source": [
    "Write the given variables"
   ]
  },
  {
   "cell_type": "code",
   "execution_count": 3,
   "id": "2e3c6a97",
   "metadata": {},
   "outputs": [],
   "source": [
    "mu = 10                                                # hypothesized value \n",
    "xbar = 10.5                                             # sample mean \n",
    "sigma = 1.5                                             # population standard deviation \n",
    "n = 40                                                  # sample size \n",
    "alpha = 0.05"
   ]
  },
  {
   "cell_type": "markdown",
   "id": "fb5c9da2",
   "metadata": {},
   "source": [
    "Calculate the test statistics"
   ]
  },
  {
   "cell_type": "code",
   "execution_count": 4,
   "id": "8d44071a",
   "metadata": {},
   "outputs": [
    {
     "data": {
      "text/plain": [
       "2.1081851067789197"
      ]
     },
     "execution_count": 4,
     "metadata": {},
     "output_type": "execute_result"
    }
   ],
   "source": [
    "z = (xbar - mu ) / (sigma/np.sqrt(n))\n",
    "z"
   ]
  },
  {
   "cell_type": "markdown",
   "id": "8eddc498",
   "metadata": {},
   "source": [
    "Calculate the p-value"
   ]
  },
  {
   "cell_type": "code",
   "execution_count": 5,
   "id": "a174e160",
   "metadata": {},
   "outputs": [
    {
     "data": {
      "text/plain": [
       "0.017507490509831247"
      ]
     },
     "execution_count": 5,
     "metadata": {},
     "output_type": "execute_result"
    }
   ],
   "source": [
    "p_value = 1 - stats.norm.cdf(z)\n",
    "p_value"
   ]
  },
  {
   "cell_type": "markdown",
   "id": "5c6b3044",
   "metadata": {},
   "source": [
    "Conclusion"
   ]
  },
  {
   "cell_type": "code",
   "execution_count": 6,
   "id": "dae2609c",
   "metadata": {},
   "outputs": [
    {
     "name": "stdout",
     "output_type": "stream",
     "text": [
      "At 0.05 level of significance, we can reject the null hypothesis in favor of alternative hypothesis.\n"
     ]
    }
   ],
   "source": [
    "if p_value < alpha:\n",
    "    print('At {} level of significance, we can reject the null hypothesis in favor of alternative hypothesis.'.format(alpha))\n",
    "else:\n",
    "    print('At {} level of significance, we fail to reject the null hypothesis.'.format(alpha))"
   ]
  },
  {
   "cell_type": "markdown",
   "id": "9b4d66ce",
   "metadata": {},
   "source": [
    "## Example-2\n",
    "- A department store manager determines that a new billing system will be cost-effective only if the mean monthly account is more than 170 dollars.\n",
    "- A random sample of 400 monthly accounts is drawn, for which the sample mean is 178 dollars.\n",
    "- The accounts are approximately normally distributed with a standard deviation of 65 dollars.\n",
    "- Can we conclude that the new system will be cost-effective?"
   ]
  },
  {
   "cell_type": "code",
   "execution_count": 7,
   "id": "5c9c405c",
   "metadata": {},
   "outputs": [],
   "source": [
    "#H0: mu = 170\n",
    "#H1: mu > 170"
   ]
  },
  {
   "cell_type": "code",
   "execution_count": 8,
   "id": "770cc20a",
   "metadata": {},
   "outputs": [],
   "source": [
    "mu = 170\n",
    "\n",
    "x_bar = 178\n",
    "n = 400\n",
    "\n",
    "sigma = 65\n",
    "\n",
    "alpha = 0.05"
   ]
  },
  {
   "cell_type": "code",
   "execution_count": 9,
   "id": "2fdc7169",
   "metadata": {},
   "outputs": [
    {
     "data": {
      "text/plain": [
       "2.4615384615384617"
      ]
     },
     "execution_count": 9,
     "metadata": {},
     "output_type": "execute_result"
    }
   ],
   "source": [
    "z = (x_bar - mu) / (sigma/np.sqrt(n))\n",
    "z"
   ]
  },
  {
   "cell_type": "code",
   "execution_count": 10,
   "id": "d608432a",
   "metadata": {},
   "outputs": [
    {
     "data": {
      "text/plain": [
       "3.25"
      ]
     },
     "execution_count": 10,
     "metadata": {},
     "output_type": "execute_result"
    }
   ],
   "source": [
    "#Standard Error\n",
    "sigma/np.sqrt(n)"
   ]
  },
  {
   "cell_type": "code",
   "execution_count": 11,
   "id": "6f5ac960",
   "metadata": {},
   "outputs": [],
   "source": [
    "p_value = 1 - stats.norm.cdf(z)"
   ]
  },
  {
   "cell_type": "code",
   "execution_count": 12,
   "id": "f2e288c1",
   "metadata": {},
   "outputs": [
    {
     "data": {
      "text/plain": [
       "0.006917128192854505"
      ]
     },
     "execution_count": 12,
     "metadata": {},
     "output_type": "execute_result"
    }
   ],
   "source": [
    "1 - stats.norm.cdf(178, 170, 3.25)"
   ]
  },
  {
   "cell_type": "code",
   "execution_count": 13,
   "id": "349011f2",
   "metadata": {},
   "outputs": [
    {
     "name": "stdout",
     "output_type": "stream",
     "text": [
      "At 0.05 level of significance, we can reject the null hypothesis in favor of alternative hypothesis.\n"
     ]
    }
   ],
   "source": [
    "if p_value < alpha:\n",
    "    print('At {} level of significance, we can reject the null hypothesis in favor of alternative hypothesis.'.format(alpha))\n",
    "else:\n",
    "    print('At {} level of significance, we fail to reject the null hypothesis.'.format(alpha))"
   ]
  },
  {
   "cell_type": "markdown",
   "id": "27e81112",
   "metadata": {},
   "source": [
    "# One Sample t Test"
   ]
  },
  {
   "cell_type": "markdown",
   "id": "27f38535",
   "metadata": {},
   "source": [
    "## Example-1\n",
    "- Bon Air ELEM has 1000 students. The principal of the school thinks that the average IQ of students at Bon Air is at least 110. To prove her point, she administers an IQ test to 20 randomly selected students.\n",
    "- Among the sampled students, the average IQ is 108 with a standard deviation of 10.\n",
    "- Based on these results, should the principal accept or reject her original hypothesis? α = 0.01"
   ]
  },
  {
   "cell_type": "code",
   "execution_count": 14,
   "id": "edb98f82",
   "metadata": {},
   "outputs": [],
   "source": [
    "#H0: mu = 110\n",
    "#H1: mu < 110"
   ]
  },
  {
   "cell_type": "code",
   "execution_count": 15,
   "id": "5ea3e12c",
   "metadata": {},
   "outputs": [],
   "source": [
    "mu = 110\n",
    "\n",
    "xbar = 108\n",
    "n = 20\n",
    "s = 10\n",
    "\n",
    "alpha = 0.01"
   ]
  },
  {
   "cell_type": "code",
   "execution_count": 16,
   "id": "d9d1b8c2",
   "metadata": {},
   "outputs": [
    {
     "data": {
      "text/plain": [
       "-0.8944271909999159"
      ]
     },
     "execution_count": 16,
     "metadata": {},
     "output_type": "execute_result"
    }
   ],
   "source": [
    "t = (xbar - mu) / (s / np.sqrt(n))\n",
    "t"
   ]
  },
  {
   "cell_type": "code",
   "execution_count": 17,
   "id": "da0a01ed",
   "metadata": {},
   "outputs": [
    {
     "data": {
      "text/plain": [
       "0.1911420676837155"
      ]
     },
     "execution_count": 17,
     "metadata": {},
     "output_type": "execute_result"
    }
   ],
   "source": [
    "p_value = stats.t.cdf(t, df=n-1)\n",
    "p_value"
   ]
  },
  {
   "cell_type": "code",
   "execution_count": 18,
   "id": "fa7f9333",
   "metadata": {},
   "outputs": [
    {
     "data": {
      "text/plain": [
       "-0.8944271909999159"
      ]
     },
     "execution_count": 18,
     "metadata": {},
     "output_type": "execute_result"
    }
   ],
   "source": [
    "stats.t.ppf(p_value, df=n-1)"
   ]
  },
  {
   "cell_type": "code",
   "execution_count": 19,
   "id": "17a1e63d",
   "metadata": {},
   "outputs": [
    {
     "data": {
      "text/plain": [
       "-2.5394831906222888"
      ]
     },
     "execution_count": 19,
     "metadata": {},
     "output_type": "execute_result"
    }
   ],
   "source": [
    "#How to calculate critical value\n",
    "stats.t.ppf(alpha, df=n-1)"
   ]
  },
  {
   "cell_type": "code",
   "execution_count": 20,
   "id": "2b100aff",
   "metadata": {},
   "outputs": [
    {
     "data": {
      "text/plain": [
       "-1.7291328115213678"
      ]
     },
     "execution_count": 20,
     "metadata": {},
     "output_type": "execute_result"
    }
   ],
   "source": [
    "stats.t.ppf(0.05, df=n-1)"
   ]
  }
 ],
 "metadata": {
  "kernelspec": {
   "display_name": "Python 3 (ipykernel)",
   "language": "python",
   "name": "python3"
  },
  "language_info": {
   "codemirror_mode": {
    "name": "ipython",
    "version": 3
   },
   "file_extension": ".py",
   "mimetype": "text/x-python",
   "name": "python",
   "nbconvert_exporter": "python",
   "pygments_lexer": "ipython3",
   "version": "3.9.12"
  },
  "varInspector": {
   "cols": {
    "lenName": 16,
    "lenType": 16,
    "lenVar": 40
   },
   "kernels_config": {
    "python": {
     "delete_cmd_postfix": "",
     "delete_cmd_prefix": "del ",
     "library": "var_list.py",
     "varRefreshCmd": "print(var_dic_list())"
    },
    "r": {
     "delete_cmd_postfix": ") ",
     "delete_cmd_prefix": "rm(",
     "library": "var_list.r",
     "varRefreshCmd": "cat(var_dic_list()) "
    }
   },
   "types_to_exclude": [
    "module",
    "function",
    "builtin_function_or_method",
    "instance",
    "_Feature"
   ],
   "window_display": false
  }
 },
 "nbformat": 4,
 "nbformat_minor": 5
}
